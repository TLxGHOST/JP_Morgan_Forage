{
 "cells": [
  {
   "cell_type": "code",
   "execution_count": 1,
   "metadata": {},
   "outputs": [],
   "source": [
    "import pandas as pd\n",
    "import numpy as np"
   ]
  },
  {
   "cell_type": "code",
   "execution_count": 2,
   "metadata": {},
   "outputs": [],
   "source": [
    "\n",
    "def price_contract(ij_dt, wthdrw_dts, ij_prc, wthdrw_prc, \n",
    "                    injection_rate, withdrawal_rate, max_storage, storage_cost):\n",
    "    \n",
    "    total_volume = 0  # Track stored gas volume\n",
    "    total_cost = 0    # Track total cost\n",
    "    total_revenue = 0 # Track total revenue\n",
    "    \n",
    "  \n",
    "    for date, price in zip(ij_dt, ij_prc):\n",
    "        volume_injected = min(injection_rate, max_storage - total_volume)\n",
    "        total_volume += volume_injected\n",
    "        total_cost += volume_injected * price  # Buying cost\n",
    "        total_cost += storage_cost  # Monthly storage fee\n",
    "\n",
    "    for date, price in zip(wthdrw_dts, wthdrw_prc):\n",
    "        volume_withdrawn = min(withdrawal_rate, total_volume)\n",
    "        total_volume -= volume_withdrawn\n",
    "        total_revenue += volume_withdrawn * price  # Selling revenue\n",
    "    \n",
    "    \n",
    "    contract_value = total_revenue - total_cost\n",
    "    return contract_value"
   ]
  },
  {
   "cell_type": "markdown",
   "metadata": {},
   "source": [
    "### 1. Basic Scenario"
   ]
  },
  {
   "cell_type": "code",
   "execution_count": 4,
   "metadata": {},
   "outputs": [
    {
     "name": "stdout",
     "output_type": "stream",
     "text": [
      "Contract Value: 2400000.0\n"
     ]
    }
   ],
   "source": [
    "ij_dt = [\"2024-06-01\", \"2024-07-01\"]\n",
    "wthdrw_dts = [\"2024-12-01\", \"2025-01-01\"]\n",
    "ij_prc = [2.5, 2.7]  # Prices per MMBtu\n",
    "wthdrw_prc = [3.8, 4.0]  # Prices per MMBtu\n",
    "injection_rate = 1000000  # MMBtu per month\n",
    "withdrawal_rate = 1000000  # MMBtu per month\n",
    "max_storage = 3000000  # Max capacity in MMBtu\n",
    "storage_cost = 100000  # Monthly storage cost\n",
    "\n",
    "contract_value = price_contract(ij_dt, wthdrw_dts, ij_prc, \n",
    "                                wthdrw_prc, injection_rate, withdrawal_rate, \n",
    "                                max_storage, storage_cost)\n",
    "\n",
    "print(\"Contract Value:\", contract_value)\n"
   ]
  },
  {
   "cell_type": "markdown",
   "metadata": {},
   "source": [
    "* Expected: Positive profit because the purchase prices are lower than the selling prices."
   ]
  },
  {
   "cell_type": "markdown",
   "metadata": {},
   "source": [
    "### 2.High Storage Cost"
   ]
  },
  {
   "cell_type": "code",
   "execution_count": 5,
   "metadata": {},
   "outputs": [
    {
     "name": "stdout",
     "output_type": "stream",
     "text": [
      "Contract Value: 800000.0\n"
     ]
    }
   ],
   "source": [
    "ij_dt = [\"2024-05-01\", \"2024-06-01\"]\n",
    "wthdrw_dts = [\"2024-11-01\", \"2024-12-01\"]\n",
    "ij_prc = [2.6, 2.8]  \n",
    "wthdrw_prc = [3.5, 3.7]  \n",
    "injection_rate = 1000000  \n",
    "withdrawal_rate = 1000000  \n",
    "max_storage = 3000000  \n",
    "storage_cost = 500000  # Higher monthly cost\n",
    "\n",
    "contract_value = price_contract(ij_dt, wthdrw_dts, ij_prc, \n",
    "                                wthdrw_prc, injection_rate, withdrawal_rate, \n",
    "                                max_storage, storage_cost)\n",
    "\n",
    "print(\"Contract Value:\", contract_value)\n"
   ]
  },
  {
   "cell_type": "markdown",
   "metadata": {},
   "source": [
    "* Expected: Lower or negative value due to high storage cost."
   ]
  },
  {
   "cell_type": "markdown",
   "metadata": {},
   "source": [
    "### 3. Full Capacity Utilization"
   ]
  },
  {
   "cell_type": "code",
   "execution_count": 6,
   "metadata": {},
   "outputs": [
    {
     "name": "stdout",
     "output_type": "stream",
     "text": [
      "Contract Value: 4300000.0\n"
     ]
    }
   ],
   "source": [
    "ij_dt = [\"2024-04-01\", \"2024-05-01\", \"2024-06-01\"]\n",
    "wthdrw_dts = [\"2024-11-01\", \"2024-12-01\", \"2025-01-01\"]\n",
    "ij_prc = [2.4, 2.6, 2.7]  \n",
    "wthdrw_prc = [3.9, 4.1, 4.3]  \n",
    "injection_rate = 1000000  \n",
    "withdrawal_rate = 1000000  \n",
    "max_storage = 3000000  \n",
    "storage_cost = 100000  \n",
    "\n",
    "contract_value = price_contract(ij_dt, wthdrw_dts, ij_prc, \n",
    "                                wthdrw_prc, injection_rate, withdrawal_rate, \n",
    "                                max_storage, storage_cost)\n",
    "\n",
    "print(\"Contract Value:\", contract_value)\n"
   ]
  },
  {
   "cell_type": "markdown",
   "metadata": {},
   "source": [
    "* Expected: Higher profit since the contract fully utilizes storage."
   ]
  },
  {
   "cell_type": "markdown",
   "metadata": {},
   "source": [
    "### 4: Loss Scenario"
   ]
  },
  {
   "cell_type": "code",
   "execution_count": 7,
   "metadata": {},
   "outputs": [
    {
     "name": "stdout",
     "output_type": "stream",
     "text": [
      "Contract Value: -700000.0\n"
     ]
    }
   ],
   "source": [
    "ij_dt = [\"2024-06-01\", \"2024-07-01\"]\n",
    "wthdrw_dts = [\"2024-10-01\", \"2024-11-01\"]\n",
    "ij_prc = [3.0, 3.2]  \n",
    "wthdrw_prc = [2.8, 2.9]  # Selling prices are lower than buying prices\n",
    "injection_rate = 1000000  \n",
    "withdrawal_rate = 1000000  \n",
    "max_storage = 3000000  \n",
    "storage_cost = 100000  \n",
    "\n",
    "contract_value = price_contract(ij_dt, wthdrw_dts, ij_prc, \n",
    "                                wthdrw_prc, injection_rate, withdrawal_rate, \n",
    "                                max_storage, storage_cost)\n",
    "\n",
    "print(\"Contract Value:\", contract_value)\n"
   ]
  },
  {
   "cell_type": "markdown",
   "metadata": {},
   "source": [
    "* Expected: Negative value because selling price is lower than buying price."
   ]
  },
  {
   "cell_type": "markdown",
   "metadata": {},
   "source": [
    "### 5: Limited Storage Scenario"
   ]
  },
  {
   "cell_type": "code",
   "execution_count": 8,
   "metadata": {},
   "outputs": [
    {
     "name": "stdout",
     "output_type": "stream",
     "text": [
      "Contract Value: 2300000.0\n"
     ]
    }
   ],
   "source": [
    "ij_dt = [\"2024-05-01\", \"2024-06-01\", \"2024-07-01\"]\n",
    "wthdrw_dts = [\"2024-11-01\", \"2024-12-01\", \"2025-01-01\"]\n",
    "ij_prc = [2.4, 2.5, 2.6]  \n",
    "wthdrw_prc = [3.7, 3.8, 3.9]  \n",
    "injection_rate = 1000000  \n",
    "withdrawal_rate = 1000000  \n",
    "max_storage = 2000000  # Reduced storage capacity\n",
    "storage_cost = 100000  \n",
    "\n",
    "contract_value = price_contract(ij_dt, wthdrw_dts, ij_prc, \n",
    "                                wthdrw_prc, injection_rate, withdrawal_rate, \n",
    "                                max_storage, storage_cost)\n",
    "\n",
    "print(\"Contract Value:\", contract_value)\n"
   ]
  },
  {
   "cell_type": "markdown",
   "metadata": {},
   "source": [
    "* Expected: Lower value due to limited storage preventing full volume utilization.\n",
    "\n"
   ]
  }
 ],
 "metadata": {
  "kernelspec": {
   "display_name": "Python 3",
   "language": "python",
   "name": "python3"
  },
  "language_info": {
   "codemirror_mode": {
    "name": "ipython",
    "version": 3
   },
   "file_extension": ".py",
   "mimetype": "text/x-python",
   "name": "python",
   "nbconvert_exporter": "python",
   "pygments_lexer": "ipython3",
   "version": "3.11.9"
  }
 },
 "nbformat": 4,
 "nbformat_minor": 2
}
