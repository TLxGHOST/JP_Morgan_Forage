{
 "cells": [
  {
   "cell_type": "code",
   "execution_count": 73,
   "metadata": {},
   "outputs": [],
   "source": [
    "import pandas as pd\n",
    "from sklearn.model_selection import train_test_split\n",
    "from sklearn.linear_model import LogisticRegression\n",
    "from sklearn.tree import DecisionTreeClassifier\n",
    "from sklearn.svm import SVC\n",
    "from sklearn.ensemble import RandomForestClassifier\n",
    "from sklearn.neural_network import MLPClassifier\n",
    "from sklearn.metrics import accuracy_score, classification_report,roc_auc_score, roc_curve\n",
    "from sklearn.preprocessing import StandardScaler\n",
    "import matplotlib.pyplot as plt\n"
   ]
  },
  {
   "cell_type": "code",
   "execution_count": null,
   "metadata": {},
   "outputs": [],
   "source": [
    "data = pd.read_csv('Task 3 and 4_Loan_Data.csv')"
   ]
  },
  {
   "cell_type": "code",
   "execution_count": 45,
   "metadata": {},
   "outputs": [
    {
     "name": "stdout",
     "output_type": "stream",
     "text": [
      "customer_id                 0\n",
      "credit_lines_outstanding    0\n",
      "loan_amt_outstanding        0\n",
      "total_debt_outstanding      0\n",
      "income                      0\n",
      "years_employed              0\n",
      "fico_score                  0\n",
      "default                     0\n",
      "dtype: int64\n"
     ]
    }
   ],
   "source": [
    "print(data.isnull().sum())"
   ]
  },
  {
   "cell_type": "code",
   "execution_count": 46,
   "metadata": {},
   "outputs": [
    {
     "name": "stdout",
     "output_type": "stream",
     "text": [
      "customer_id                   int64\n",
      "credit_lines_outstanding      int64\n",
      "loan_amt_outstanding        float64\n",
      "total_debt_outstanding      float64\n",
      "income                      float64\n",
      "years_employed                int64\n",
      "fico_score                    int64\n",
      "default                       int64\n",
      "dtype: object\n"
     ]
    }
   ],
   "source": [
    "print(data.dtypes)"
   ]
  },
  {
   "cell_type": "code",
   "execution_count": 47,
   "metadata": {},
   "outputs": [
    {
     "name": "stdout",
     "output_type": "stream",
     "text": [
      "        customer_id  credit_lines_outstanding  loan_amt_outstanding  \\\n",
      "count  1.000000e+04              10000.000000          10000.000000   \n",
      "mean   4.974577e+06                  1.461200           4159.677034   \n",
      "std    2.293890e+06                  1.743846           1421.399078   \n",
      "min    1.000324e+06                  0.000000             46.783973   \n",
      "25%    2.977661e+06                  0.000000           3154.235371   \n",
      "50%    4.989502e+06                  1.000000           4052.377228   \n",
      "75%    6.967210e+06                  2.000000           5052.898103   \n",
      "max    8.999789e+06                  5.000000          10750.677810   \n",
      "\n",
      "       total_debt_outstanding         income  years_employed    fico_score  \\\n",
      "count            10000.000000   10000.000000    10000.000000  10000.000000   \n",
      "mean              8718.916797   70039.901401        4.552800    637.557700   \n",
      "std               6627.164762   20072.214143        1.566862     60.657906   \n",
      "min                 31.652732    1000.000000        0.000000    408.000000   \n",
      "25%               4199.836020   56539.867903        3.000000    597.000000   \n",
      "50%               6732.407217   70085.826330        5.000000    638.000000   \n",
      "75%              11272.263740   83429.166133        6.000000    679.000000   \n",
      "max              43688.784100  148412.180500       10.000000    850.000000   \n",
      "\n",
      "            default  \n",
      "count  10000.000000  \n",
      "mean       0.185100  \n",
      "std        0.388398  \n",
      "min        0.000000  \n",
      "25%        0.000000  \n",
      "50%        0.000000  \n",
      "75%        0.000000  \n",
      "max        1.000000  \n"
     ]
    }
   ],
   "source": [
    "print(data.describe())"
   ]
  },
  {
   "cell_type": "code",
   "execution_count": 48,
   "metadata": {},
   "outputs": [
    {
     "name": "stdout",
     "output_type": "stream",
     "text": [
      "default\n",
      "0    8149\n",
      "1    1851\n",
      "Name: count, dtype: int64\n"
     ]
    }
   ],
   "source": [
    "print(data['default'].value_counts())"
   ]
  },
  {
   "cell_type": "code",
   "execution_count": 49,
   "metadata": {},
   "outputs": [],
   "source": [
    "X = data[['credit_lines_outstanding', 'loan_amt_outstanding', 'total_debt_outstanding', 'income', 'years_employed', 'fico_score']]\n",
    "y = data['default']"
   ]
  },
  {
   "cell_type": "code",
   "execution_count": 50,
   "metadata": {},
   "outputs": [],
   "source": [
    "scaler = StandardScaler()\n",
    "X_scaled = scaler.fit_transform(X)"
   ]
  },
  {
   "cell_type": "code",
   "execution_count": 51,
   "metadata": {},
   "outputs": [],
   "source": [
    "X_train, X_test, y_train, y_test = train_test_split(X_scaled, y, test_size=0.2, random_state=42)\n"
   ]
  },
  {
   "cell_type": "markdown",
   "metadata": {},
   "source": [
    "* **1. Logistic Regression**"
   ]
  },
  {
   "cell_type": "code",
   "execution_count": 65,
   "metadata": {},
   "outputs": [],
   "source": [
    "logreg_model = LogisticRegression()\n",
    "logreg_model.fit(X_train, y_train)\n",
    "logreg_pred = logreg_model.predict(X_test)\n",
    "logreg_proba = logreg_model.predict_proba(X_test)[:, 1] \n"
   ]
  },
  {
   "cell_type": "markdown",
   "metadata": {},
   "source": [
    "* **2. Decision Tree**"
   ]
  },
  {
   "cell_type": "code",
   "execution_count": 64,
   "metadata": {},
   "outputs": [],
   "source": [
    "dt_model = DecisionTreeClassifier()\n",
    "dt_model.fit(X_train, y_train)\n",
    "dt_pred = dt_model.predict(X_test)\n",
    "dt_proba = dt_model.predict_proba(X_test)[:, 1]\n"
   ]
  },
  {
   "cell_type": "markdown",
   "metadata": {},
   "source": [
    "* **3. Support Vector Machine (SVM)**"
   ]
  },
  {
   "cell_type": "code",
   "execution_count": 66,
   "metadata": {},
   "outputs": [],
   "source": [
    "\n",
    "\n",
    "svm_model = SVC(probability=True) \n",
    "svm_model.fit(X_train, y_train)\n",
    "svm_pred = svm_model.predict(X_test)\n",
    "svm_proba = svm_model.predict_proba(X_test)[:, 1]"
   ]
  },
  {
   "cell_type": "markdown",
   "metadata": {},
   "source": [
    "* **4. Random Forest**"
   ]
  },
  {
   "cell_type": "code",
   "execution_count": 67,
   "metadata": {},
   "outputs": [],
   "source": [
    "rf_model = RandomForestClassifier()\n",
    "rf_model.fit(X_train, y_train)\n",
    "rf_pred = rf_model.predict(X_test)\n",
    "rf_proba = rf_model.predict_proba(X_test)[:, 1]\n"
   ]
  },
  {
   "cell_type": "markdown",
   "metadata": {},
   "source": [
    "* **5. Neural Network**"
   ]
  },
  {
   "cell_type": "code",
   "execution_count": 68,
   "metadata": {},
   "outputs": [],
   "source": [
    "nn_model = MLPClassifier(hidden_layer_sizes=(100,), max_iter=500, random_state=42) \n",
    "nn_model.fit(X_train, y_train)\n",
    "nn_pred = nn_model.predict(X_test)\n",
    "nn_proba = nn_model.predict_proba(X_test)[:, 1]\n"
   ]
  },
  {
   "cell_type": "code",
   "execution_count": 74,
   "metadata": {},
   "outputs": [
    {
     "name": "stdout",
     "output_type": "stream",
     "text": [
      "Logistic Regression Accuracy: 0.996\n",
      "Logistic Regression Classification Report:\n",
      "               precision    recall  f1-score   support\n",
      "\n",
      "           0       1.00      1.00      1.00      1652\n",
      "           1       1.00      0.98      0.99       348\n",
      "\n",
      "    accuracy                           1.00      2000\n",
      "   macro avg       1.00      0.99      0.99      2000\n",
      "weighted avg       1.00      1.00      1.00      2000\n",
      "\n",
      "Logistic Regression AUC: 0.9999652110990509\n",
      "Decision Tree Accuracy: 0.995\n",
      "Decision Tree Classification Report:\n",
      "               precision    recall  f1-score   support\n",
      "\n",
      "           0       1.00      1.00      1.00      1652\n",
      "           1       0.99      0.99      0.99       348\n",
      "\n",
      "    accuracy                           0.99      2000\n",
      "   macro avg       0.99      0.99      0.99      2000\n",
      "weighted avg       0.99      0.99      0.99      2000\n",
      "\n",
      "Decision Tree AUC: 0.9913027747627396\n",
      "SVM Accuracy: 0.992\n",
      "SVM Classification Report:\n",
      "               precision    recall  f1-score   support\n",
      "\n",
      "           0       0.99      1.00      1.00      1652\n",
      "           1       0.99      0.97      0.98       348\n",
      "\n",
      "    accuracy                           0.99      2000\n",
      "   macro avg       0.99      0.98      0.99      2000\n",
      "weighted avg       0.99      0.99      0.99      2000\n",
      "\n",
      "SVM AUC: 0.9997443015780246\n",
      "Random Forest Accuracy: 0.995\n",
      "Random Forest Classification Report:\n",
      "               precision    recall  f1-score   support\n",
      "\n",
      "           0       1.00      1.00      1.00      1652\n",
      "           1       0.99      0.98      0.99       348\n",
      "\n",
      "    accuracy                           0.99      2000\n",
      "   macro avg       0.99      0.99      0.99      2000\n",
      "weighted avg       0.99      0.99      0.99      2000\n",
      "\n",
      "Random Forest AUC: 0.9996868998914586\n",
      "Neural Network Accuracy: 0.998\n",
      "Neural Network Classification Report:\n",
      "               precision    recall  f1-score   support\n",
      "\n",
      "           0       1.00      1.00      1.00      1652\n",
      "           1       1.00      0.99      0.99       348\n",
      "\n",
      "    accuracy                           1.00      2000\n",
      "   macro avg       1.00      0.99      1.00      2000\n",
      "weighted avg       1.00      1.00      1.00      2000\n",
      "\n",
      "Neural Network AUC: 0.9999860844396203\n"
     ]
    },
    {
     "data": {
      "image/png": "[encoded data removed]",
      "text/plain": [
       "<Figure size 640x480 with 1 Axes>"
      ]
     },
     "metadata": {},
     "output_type": "display_data"
    }
   ],
   "source": [
    "def evaluate_model(model_name, y_test, y_pred, y_proba):\n",
    "    accuracy = accuracy_score(y_test, y_pred)\n",
    "    print(f\"{model_name} Accuracy:\", accuracy)\n",
    "    print(f\"{model_name} Classification Report:\\n\", classification_report(y_test, y_pred))\n",
    "    \n",
    "    # Calculate AUC\n",
    "    auc = roc_auc_score(y_test, y_proba)\n",
    "    print(f\"{model_name} AUC:\", auc)\n",
    "\n",
    "    # Plot ROC Curve\n",
    "    fpr, tpr, thresholds = roc_curve(y_test, y_proba)\n",
    "    plt.plot(fpr, tpr, label=f'{model_name} AUC = {auc:.3f}')\n",
    "\n",
    "evaluate_model(\"Logistic Regression\", y_test, logreg_pred, logreg_proba)\n",
    "evaluate_model(\"Decision Tree\", y_test, dt_pred, dt_proba)\n",
    "evaluate_model(\"SVM\", y_test, svm_pred, svm_proba)\n",
    "evaluate_model(\"Random Forest\", y_test, rf_pred, rf_proba)\n",
    "evaluate_model(\"Neural Network\", y_test, nn_pred, nn_proba)"
   ]
  },
  {
   "cell_type": "code",
   "execution_count": 75,
   "metadata": {},
   "outputs": [
    {
     "name": "stderr",
     "output_type": "stream",
     "text": [
      "C:\\Users\\KIIT\\AppData\\Local\\Temp\\ipykernel_20364\\782621365.py:5: UserWarning: No artists with labels found to put in legend.  Note that artists whose label start with an underscore are ignored when legend() is called with no argument.\n",
      "  plt.legend(loc='lower right')\n"
     ]
    },
    {
     "data": {
      "image/png": "[encoded data removed]",
      "text/plain": [
       "<Figure size 640x480 with 1 Axes>"
      ]
     },
     "metadata": {},
     "output_type": "display_data"
    }
   ],
   "source": [
    "plt.plot([0, 1], [0, 1], 'k--')\n",
    "plt.xlabel('False Positive Rate')\n",
    "plt.ylabel('True Positive Rate')\n",
    "plt.title('ROC Curves')\n",
    "plt.legend(loc='lower right')\n",
    "plt.show()"
   ]
  },
  {
   "cell_type": "markdown",
   "metadata": {},
   "source": [
    "* High Overall Performance: All models demonstrate excellent performance with high accuracy, precision, recall, F1-scores, and AUC scores. This suggests that the features used are effective in predicting loan defaults.\n",
    "\n",
    "* Logistic Regression and Neural Network: These models stand out with the highest accuracy (0.996 and 0.998, respectively) and AUC scores (close to 1), indicating strong predictive power and well-calibrated probability estimates.\n",
    "\n",
    "* Decision Tree and Random Forest: While slightly lower in accuracy compared to Logistic Regression and Neural Network, they still exhibit excellent performance with high accuracy and AUC scores. Random Forest, being an ensemble method, can often provide better generalization and robustness to overfitting.   \n",
    "\n",
    "* SVM: Achieves high accuracy and AUC, demonstrating its effectiveness in this classification task.\n",
    "* Neural Network: The model shows the highest accuracy and AUC score, indicating its strong predictive power and well-calibrated probability estimates. However, it may be computationally expensive and require more tuning compared to other models."
   ]
  },
  {
   "cell_type": "code",
   "execution_count": 76,
   "metadata": {},
   "outputs": [
    {
     "name": "stdout",
     "output_type": "stream",
     "text": [
      "Predicted PD for new borrower (Logistic Regression): 9.602187188468737e-08\n",
      "Expected Loss: 8.641968469621863e-08\n"
     ]
    },
    {
     "name": "stderr",
     "output_type": "stream",
     "text": [
      "c:\\Users\\KIIT\\AppData\\Local\\Programs\\Python\\Python311\\Lib\\site-packages\\sklearn\\base.py:493: UserWarning: X does not have valid feature names, but StandardScaler was fitted with feature names\n",
      "  warnings.warn(\n"
     ]
    }
   ],
   "source": [
    " \n",
    "logreg_pd = logreg_model.predict_proba(new_borrower_scaled)[0][1]  \n",
    "expected_loss = logreg_pd * 0.9 \n",
    "\n",
    "print(\"Predicted PD for new borrower (Logistic Regression):\", logreg_pd)\n",
    "print(\"Expected Loss:\", expected_loss)"
   ]
  },
  {
   "cell_type": "code",
   "execution_count": 78,
   "metadata": {},
   "outputs": [
    {
     "name": "stdout",
     "output_type": "stream",
     "text": [
      "Predicted PD for new borrower (Descision tree): 0.0\n",
      "Expected Loss: 0.0\n"
     ]
    },
    {
     "name": "stderr",
     "output_type": "stream",
     "text": [
      "c:\\Users\\KIIT\\AppData\\Local\\Programs\\Python\\Python311\\Lib\\site-packages\\sklearn\\base.py:493: UserWarning: X does not have valid feature names, but StandardScaler was fitted with feature names\n",
      "  warnings.warn(\n"
     ]
    }
   ],
   "source": [
    "\n",
    "dt_pd = dt_model.predict_proba(new_borrower_scaled)[0][1]  \n",
    "expected_loss = dt_pd * 0.9  \n",
    "\n",
    "print(\"Predicted PD for new borrower (Descision tree):\", dt_pd)\n",
    "print(\"Expected Loss:\", expected_loss)"
   ]
  },
  {
   "cell_type": "code",
   "execution_count": 80,
   "metadata": {},
   "outputs": [
    {
     "name": "stdout",
     "output_type": "stream",
     "text": [
      "Predicted PD for new borrower (svm tree): 1.0000000994736041e-07\n",
      "Expected Loss: 0.0\n"
     ]
    },
    {
     "name": "stderr",
     "output_type": "stream",
     "text": [
      "c:\\Users\\KIIT\\AppData\\Local\\Programs\\Python\\Python311\\Lib\\site-packages\\sklearn\\base.py:493: UserWarning: X does not have valid feature names, but StandardScaler was fitted with feature names\n",
      "  warnings.warn(\n"
     ]
    }
   ],
   "source": [
    "\n",
    "svm_pd = svm_model.predict_proba(new_borrower_scaled)[0][1]  \n",
    "expected_loss = dt_pd * 0.9  \n",
    "\n",
    "print(\"Predicted PD for new borrower (svm tree):\", svm_pd)\n",
    "print(\"Expected Loss:\", expected_loss)"
   ]
  },
  {
   "cell_type": "code",
   "execution_count": 82,
   "metadata": {},
   "outputs": [
    {
     "name": "stdout",
     "output_type": "stream",
     "text": [
      "Predicted PD for new borrower (Random forest): 0.0\n",
      "Expected Loss: 0.0\n"
     ]
    },
    {
     "name": "stderr",
     "output_type": "stream",
     "text": [
      "c:\\Users\\KIIT\\AppData\\Local\\Programs\\Python\\Python311\\Lib\\site-packages\\sklearn\\base.py:493: UserWarning: X does not have valid feature names, but StandardScaler was fitted with feature names\n",
      "  warnings.warn(\n"
     ]
    }
   ],
   "source": [
    "\n",
    "rf_pd = dt_model.predict_proba(new_borrower_scaled)[0][1]  \n",
    "expected_loss = rf_pd * 0.9  \n",
    "\n",
    "print(\"Predicted PD for new borrower (Random forest):\", rf_pd)\n",
    "print(\"Expected Loss:\", expected_loss)"
   ]
  },
  {
   "cell_type": "code",
   "execution_count": 83,
   "metadata": {},
   "outputs": [
    {
     "name": "stdout",
     "output_type": "stream",
     "text": [
      "Predicted PD for new borrower (Descision tree): 1.1948318596985224e-08\n",
      "Expected Loss: 0.0\n"
     ]
    },
    {
     "name": "stderr",
     "output_type": "stream",
     "text": [
      "c:\\Users\\KIIT\\AppData\\Local\\Programs\\Python\\Python311\\Lib\\site-packages\\sklearn\\base.py:493: UserWarning: X does not have valid feature names, but StandardScaler was fitted with feature names\n",
      "  warnings.warn(\n"
     ]
    }
   ],
   "source": [
    "\n",
    "nn_pd = nn_model.predict_proba(new_borrower_scaled)[0][1]  \n",
    "expected_loss = dt_pd * 0.9  \n",
    "\n",
    "print(\"Predicted PD for new borrower (Neural Network):\", nn_pd)\n",
    "print(\"Expected Loss:\", expected_loss)"
   ]
  }
 ],
 "metadata": {
  "language_info": {
   "name": "python"
  }
 },
 "nbformat": 4,
 "nbformat_minor": 2
}
